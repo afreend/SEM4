{
 "cells": [
  {
   "cell_type": "code",
   "execution_count": 9,
   "id": "cfeed84e",
   "metadata": {},
   "outputs": [],
   "source": [
    "import cv2\n",
    "import numpy as np\n"
   ]
  },
  {
   "cell_type": "markdown",
   "id": "67cced2c",
   "metadata": {},
   "source": [
    "# region of interest"
   ]
  },
  {
   "cell_type": "code",
   "execution_count": null,
   "id": "8571e257",
   "metadata": {},
   "outputs": [],
   "source": [
    "image = cv2.imread('C:/Users/ADMIN/Pictures/coco.jpg')\n",
    "r = cv2.selectROI(\"select the area\",image)\n",
    "cropped_image= image[int(r[1]):int(r[1]+r[3]),\n",
    "                    int(r[0]):int(r[0]+r[2])]\n",
    "cv2.imshow(\"cropped image\",cropped_image)\n",
    "cv2.waitKey(0)"
   ]
  },
  {
   "cell_type": "code",
   "execution_count": null,
   "id": "39c423aa",
   "metadata": {},
   "outputs": [],
   "source": []
  },
  {
   "cell_type": "code",
   "execution_count": null,
   "id": "5e6214fb",
   "metadata": {},
   "outputs": [],
   "source": []
  }
 ],
 "metadata": {
  "kernelspec": {
   "display_name": "Python 3 (ipykernel)",
   "language": "python",
   "name": "python3"
  },
  "language_info": {
   "codemirror_mode": {
    "name": "ipython",
    "version": 3
   },
   "file_extension": ".py",
   "mimetype": "text/x-python",
   "name": "python",
   "nbconvert_exporter": "python",
   "pygments_lexer": "ipython3",
   "version": "3.11.5"
  }
 },
 "nbformat": 4,
 "nbformat_minor": 5
}
