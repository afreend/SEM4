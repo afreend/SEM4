{
 "cells": [
  {
   "cell_type": "code",
   "execution_count": 6,
   "id": "7c13f0eb",
   "metadata": {},
   "outputs": [],
   "source": [
    "import cv2\n",
    "import numpy as np"
   ]
  },
  {
   "cell_type": "code",
   "execution_count": 7,
   "id": "5ce5418c",
   "metadata": {},
   "outputs": [],
   "source": [
    "im1=cv2.imread(\"C:/Users/ADMIN/Downloads/flowers.jpg\")"
   ]
  },
  {
   "cell_type": "code",
   "execution_count": null,
   "id": "82e6ecba",
   "metadata": {},
   "outputs": [],
   "source": []
  },
  {
   "cell_type": "code",
   "execution_count": 8,
   "id": "21b90fce",
   "metadata": {},
   "outputs": [
    {
     "name": "stdout",
     "output_type": "stream",
     "text": [
      "(3200, 5600, 3)\n"
     ]
    }
   ],
   "source": [
    "print(im1.shape)"
   ]
  },
  {
   "cell_type": "code",
   "execution_count": 9,
   "id": "7a5545b1",
   "metadata": {},
   "outputs": [
    {
     "name": "stdout",
     "output_type": "stream",
     "text": [
      "53760000\n"
     ]
    }
   ],
   "source": [
    "print(im1.size)"
   ]
  },
  {
   "cell_type": "code",
   "execution_count": 10,
   "id": "2afa595a",
   "metadata": {},
   "outputs": [],
   "source": [
    "im1_resized=cv2.resize(im1,(250,250))"
   ]
  },
  {
   "cell_type": "code",
   "execution_count": 11,
   "id": "30340e0e",
   "metadata": {},
   "outputs": [
    {
     "name": "stdout",
     "output_type": "stream",
     "text": [
      "(250, 250, 3)\n"
     ]
    }
   ],
   "source": [
    "print(im1_resized.shape)"
   ]
  },
  {
   "cell_type": "code",
   "execution_count": null,
   "id": "4ffcc674",
   "metadata": {},
   "outputs": [],
   "source": [
    "cv2.imshow(\"img1\",im1)\n",
    "cv2.imshow(\"img2\",im1_resized)\n",
    "cv2.waitKey(0)\n",
    "cv2.destroyALLwindoe()"
   ]
  },
  {
   "cell_type": "code",
   "execution_count": null,
   "id": "7694fe6b",
   "metadata": {},
   "outputs": [],
   "source": [
    "print(im1.size)"
   ]
  },
  {
   "cell_type": "markdown",
   "id": "e2372748",
   "metadata": {},
   "source": [
    "# colours space changing"
   ]
  },
  {
   "cell_type": "code",
   "execution_count": null,
   "id": "7e3201fc",
   "metadata": {},
   "outputs": [],
   "source": [
    "\n",
    "colors_av1=[i for i in dir(cv2)if i.startswith(\"COLOR_BGR\")]"
   ]
  },
  {
   "cell_type": "code",
   "execution_count": null,
   "id": "48eac88a",
   "metadata": {},
   "outputs": [],
   "source": [
    "print(colors_av1)"
   ]
  },
  {
   "cell_type": "code",
   "execution_count": null,
   "id": "4f365952",
   "metadata": {},
   "outputs": [],
   "source": [
    "im3=cv2.cvtColor(im1,cv2.COLOR_BGR2HSV)"
   ]
  },
  {
   "cell_type": "code",
   "execution_count": null,
   "id": "31562bd0",
   "metadata": {},
   "outputs": [],
   "source": [
    "cv2.imshow(\"Img1\",im1)\n",
    "cv2.imshow(\"Img2\",im3)\n",
    "cv2.waitKey(0)\n",
    "cv2.destroyALLWindow()"
   ]
  },
  {
   "cell_type": "code",
   "execution_count": null,
   "id": "f319272c",
   "metadata": {},
   "outputs": [],
   "source": []
  }
 ],
 "metadata": {
  "kernelspec": {
   "display_name": "Python 3 (ipykernel)",
   "language": "python",
   "name": "python3"
  },
  "language_info": {
   "codemirror_mode": {
    "name": "ipython",
    "version": 3
   },
   "file_extension": ".py",
   "mimetype": "text/x-python",
   "name": "python",
   "nbconvert_exporter": "python",
   "pygments_lexer": "ipython3",
   "version": "3.11.5"
  }
 },
 "nbformat": 4,
 "nbformat_minor": 5
}
