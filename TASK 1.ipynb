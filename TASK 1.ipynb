{
 "cells": [
  {
   "cell_type": "code",
   "execution_count": 1,
   "id": "0b4dae0b",
   "metadata": {},
   "outputs": [
    {
     "name": "stdout",
     "output_type": "stream",
     "text": [
      "Requirement already satisfied: opencv-python in c:\\users\\admin\\anaconda3\\envs\\afreen\\lib\\site-packages (4.9.0.80)\n",
      "Requirement already satisfied: numpy>=1.21.2 in c:\\users\\admin\\anaconda3\\envs\\afreen\\lib\\site-packages (from opencv-python) (1.26.0)\n",
      "Note: you may need to restart the kernel to use updated packages.\n"
     ]
    }
   ],
   "source": [
    "pip install opencv-python"
   ]
  },
  {
   "cell_type": "code",
   "execution_count": 2,
   "id": "fdad988b",
   "metadata": {},
   "outputs": [],
   "source": [
    "import cv2"
   ]
  },
  {
   "cell_type": "code",
   "execution_count": 3,
   "id": "e85d9ba8",
   "metadata": {},
   "outputs": [],
   "source": [
    "import numpy as np"
   ]
  },
  {
   "cell_type": "code",
   "execution_count": 12,
   "id": "c1052fb8",
   "metadata": {},
   "outputs": [],
   "source": [
    "im1=cv2.imread(\"C:/Users/ADMIN/Pictures/babyshark.jpg\")"
   ]
  },
  {
   "cell_type": "code",
   "execution_count": 13,
   "id": "dfb937d3",
   "metadata": {},
   "outputs": [
    {
     "data": {
      "text/plain": [
       "array([[[235, 206, 179],\n",
       "        [235, 206, 179],\n",
       "        [235, 206, 179],\n",
       "        ...,\n",
       "        [108,  89,  46],\n",
       "        [102,  83,  40],\n",
       "        [ 89,  70,  27]],\n",
       "\n",
       "       [[235, 206, 179],\n",
       "        [235, 206, 179],\n",
       "        [235, 206, 179],\n",
       "        ...,\n",
       "        [ 95,  76,  33],\n",
       "        [ 94,  75,  32],\n",
       "        [ 90,  71,  28]],\n",
       "\n",
       "       [[235, 206, 179],\n",
       "        [235, 206, 179],\n",
       "        [235, 206, 179],\n",
       "        ...,\n",
       "        [ 89,  69,  28],\n",
       "        [ 96,  76,  35],\n",
       "        [101,  81,  40]],\n",
       "\n",
       "       ...,\n",
       "\n",
       "       [[255, 255, 255],\n",
       "        [255, 255, 255],\n",
       "        [255, 255, 255],\n",
       "        ...,\n",
       "        [117, 159, 134],\n",
       "        [117, 159, 134],\n",
       "        [117, 159, 134]],\n",
       "\n",
       "       [[255, 255, 255],\n",
       "        [255, 255, 255],\n",
       "        [255, 255, 255],\n",
       "        ...,\n",
       "        [122, 165, 138],\n",
       "        [122, 165, 138],\n",
       "        [122, 165, 138]],\n",
       "\n",
       "       [[255, 255, 255],\n",
       "        [255, 255, 255],\n",
       "        [255, 255, 255],\n",
       "        ...,\n",
       "        [123, 166, 139],\n",
       "        [123, 166, 139],\n",
       "        [123, 166, 139]]], dtype=uint8)"
      ]
     },
     "execution_count": 13,
     "metadata": {},
     "output_type": "execute_result"
    }
   ],
   "source": [
    "im1"
   ]
  },
  {
   "cell_type": "code",
   "execution_count": 14,
   "id": "b8ebe389",
   "metadata": {},
   "outputs": [],
   "source": [
    "cv2.imshow(\"w1\",im1)\n",
    "cv2.waitKey(0)\n",
    "cv2.destroyAllWindows()"
   ]
  },
  {
   "cell_type": "code",
   "execution_count": 16,
   "id": "a4a76d15",
   "metadata": {},
   "outputs": [
    {
     "data": {
      "text/plain": [
       "True"
      ]
     },
     "execution_count": 16,
     "metadata": {},
     "output_type": "execute_result"
    }
   ],
   "source": [
    "cv2.imwrite(\"C:/Users/ADMIN/Pictures/sharky.jpg\",im1)"
   ]
  },
  {
   "cell_type": "code",
   "execution_count": 17,
   "id": "b743432b",
   "metadata": {},
   "outputs": [],
   "source": [
    "shp=im1.shape"
   ]
  },
  {
   "cell_type": "code",
   "execution_count": 18,
   "id": "73bffb84",
   "metadata": {},
   "outputs": [
    {
     "data": {
      "text/plain": [
       "(720, 1280, 3)"
      ]
     },
     "execution_count": 18,
     "metadata": {},
     "output_type": "execute_result"
    }
   ],
   "source": [
    "shp"
   ]
  },
  {
   "cell_type": "code",
   "execution_count": 19,
   "id": "8e5d1bed",
   "metadata": {},
   "outputs": [],
   "source": [
    "sz=im1.size"
   ]
  },
  {
   "cell_type": "code",
   "execution_count": 20,
   "id": "d4cc4092",
   "metadata": {},
   "outputs": [
    {
     "data": {
      "text/plain": [
       "2764800"
      ]
     },
     "execution_count": 20,
     "metadata": {},
     "output_type": "execute_result"
    }
   ],
   "source": [
    "sz"
   ]
  },
  {
   "cell_type": "code",
   "execution_count": 21,
   "id": "36c7905f",
   "metadata": {},
   "outputs": [],
   "source": [
    "px=im1[20,20]"
   ]
  },
  {
   "cell_type": "code",
   "execution_count": 22,
   "id": "0d830187",
   "metadata": {},
   "outputs": [
    {
     "data": {
      "text/plain": [
       "array([239, 210, 183], dtype=uint8)"
      ]
     },
     "execution_count": 22,
     "metadata": {},
     "output_type": "execute_result"
    }
   ],
   "source": [
    "px"
   ]
  },
  {
   "cell_type": "code",
   "execution_count": null,
   "id": "b1f44187",
   "metadata": {},
   "outputs": [],
   "source": []
  }
 ],
 "metadata": {
  "kernelspec": {
   "display_name": "Python 3 (ipykernel)",
   "language": "python",
   "name": "python3"
  },
  "language_info": {
   "codemirror_mode": {
    "name": "ipython",
    "version": 3
   },
   "file_extension": ".py",
   "mimetype": "text/x-python",
   "name": "python",
   "nbconvert_exporter": "python",
   "pygments_lexer": "ipython3",
   "version": "3.11.5"
  }
 },
 "nbformat": 4,
 "nbformat_minor": 5
}
