{
 "cells": [
  {
   "cell_type": "code",
   "execution_count": 3,
   "id": "07941d40",
   "metadata": {},
   "outputs": [],
   "source": [
    "import cv2\n",
    "import numpy "
   ]
  },
  {
   "cell_type": "code",
   "execution_count": 4,
   "id": "cae972da",
   "metadata": {},
   "outputs": [],
   "source": [
    "im2=cv2.imread(\"C:/Users/ADMIN/Pictures/123.jpg\",0)"
   ]
  },
  {
   "cell_type": "code",
   "execution_count": null,
   "id": "6d3e928a",
   "metadata": {},
   "outputs": [],
   "source": [
    "cv2.imshow(\"im2\",im2)\n",
    "cv2.waitKey(0)\n",
    "cv2.destroyAllWindows()\n"
   ]
  },
  {
   "cell_type": "code",
   "execution_count": 5,
   "id": "7de40dfc",
   "metadata": {},
   "outputs": [
    {
     "data": {
      "text/plain": [
       "array([[120, 120, 120, ...,  80,  84,  87],\n",
       "       [120, 120, 120, ...,  80,  84,  86],\n",
       "       [120, 120, 120, ...,  79,  83,  85],\n",
       "       ...,\n",
       "       [255, 255, 255, ..., 198, 198, 198],\n",
       "       [255, 255, 255, ..., 198, 197, 197],\n",
       "       [255, 255, 255, ..., 197, 197, 197]], dtype=uint8)"
      ]
     },
     "execution_count": 5,
     "metadata": {},
     "output_type": "execute_result"
    }
   ],
   "source": [
    "im2"
   ]
  },
  {
   "cell_type": "code",
   "execution_count": 7,
   "id": "4c8717b6",
   "metadata": {},
   "outputs": [],
   "source": [
    "ret,thres=cv2.threshold(im2,80,100,cv2.THRESH_BINARY)"
   ]
  },
  {
   "cell_type": "code",
   "execution_count": 8,
   "id": "2787e9ab",
   "metadata": {},
   "outputs": [
    {
     "data": {
      "text/plain": [
       "array([[100, 100, 100, ...,   0, 100, 100],\n",
       "       [100, 100, 100, ...,   0, 100, 100],\n",
       "       [100, 100, 100, ...,   0, 100, 100],\n",
       "       ...,\n",
       "       [100, 100, 100, ..., 100, 100, 100],\n",
       "       [100, 100, 100, ..., 100, 100, 100],\n",
       "       [100, 100, 100, ..., 100, 100, 100]], dtype=uint8)"
      ]
     },
     "execution_count": 8,
     "metadata": {},
     "output_type": "execute_result"
    }
   ],
   "source": [
    "thres"
   ]
  },
  {
   "cell_type": "code",
   "execution_count": 9,
   "id": "47a37369",
   "metadata": {},
   "outputs": [],
   "source": [
    "cv2.imshow(\"thres\",thres)\n",
    "cv2.waitKey(0)\n",
    "cv2.destroyAllWindows()\n"
   ]
  },
  {
   "cell_type": "markdown",
   "id": "e77c0ed7",
   "metadata": {},
   "source": [
    "syntax:\n",
    "     ret,varname=cv2.threshold(inputimage,threshold limt,replace value,\n",
    "   <threshold types>)"
   ]
  },
  {
   "cell_type": "code",
   "execution_count": 10,
   "id": "11575933",
   "metadata": {},
   "outputs": [],
   "source": [
    "ret,thres1=cv2.threshold(im2,80,100,cv2.THRESH_BINARY)\n",
    "ret,thres2=cv2.threshold(im2,80,100,cv2.THRESH_BINARY_INV)\n",
    "ret,thres3=cv2.threshold(im2,180,200,cv2.THRESH_TRUNC)\n",
    "ret,thres4=cv2.threshold(im2,80,100,cv2.THRESH_TOZERO)\n",
    "ret,thres5=cv2.threshold(im2,80,100,cv2.THRESH_TOZERO_INV)\n",
    "\n"
   ]
  },
  {
   "cell_type": "code",
   "execution_count": 11,
   "id": "90562639",
   "metadata": {},
   "outputs": [
    {
     "ename": "AttributeError",
     "evalue": "module 'cv2' has no attribute 'waitkey'",
     "output_type": "error",
     "traceback": [
      "\u001b[1;31m---------------------------------------------------------------------------\u001b[0m",
      "\u001b[1;31mAttributeError\u001b[0m                            Traceback (most recent call last)",
      "Cell \u001b[1;32mIn[11], line 6\u001b[0m\n\u001b[0;32m      4\u001b[0m cv2\u001b[38;5;241m.\u001b[39mwaitKey(\u001b[38;5;241m0\u001b[39m)\n\u001b[0;32m      5\u001b[0m cv2\u001b[38;5;241m.\u001b[39mimshow(\u001b[38;5;124m\"\u001b[39m\u001b[38;5;124mthres_3\u001b[39m\u001b[38;5;124m\"\u001b[39m,thres3)\n\u001b[1;32m----> 6\u001b[0m cv2\u001b[38;5;241m.\u001b[39mwaitkey(\u001b[38;5;241m0\u001b[39m)\n\u001b[0;32m      7\u001b[0m cv2\u001b[38;5;241m.\u001b[39mimshow(\u001b[38;5;124m\"\u001b[39m\u001b[38;5;124mthres_4\u001b[39m\u001b[38;5;124m\"\u001b[39m,thres4)\n\u001b[0;32m      8\u001b[0m cv2\u001b[38;5;241m.\u001b[39mwaitKey(\u001b[38;5;241m0\u001b[39m)\n",
      "\u001b[1;31mAttributeError\u001b[0m: module 'cv2' has no attribute 'waitkey'"
     ]
    }
   ],
   "source": [
    "cv2.imshow(\"thres_1\",thres1)\n",
    "cv2.waitKey(0)\n",
    "cv2.imshow(\"thres_2\",thres2)\n",
    "cv2.waitKey(0)\n",
    "cv2.imshow(\"thres_3\",thres3)\n",
    "cv2.waitkey(0)\n",
    "cv2.imshow(\"thres_4\",thres4)\n",
    "cv2.waitKey(0)\n",
    "cv2.imshow(\"thres_5\",thres5)\n",
    "cv2.waitKey(0)\n",
    "cv2.destroyAllWindows()"
   ]
  },
  {
   "cell_type": "code",
   "execution_count": null,
   "id": "5f6e3293",
   "metadata": {},
   "outputs": [],
   "source": []
  }
 ],
 "metadata": {
  "kernelspec": {
   "display_name": "Python 3 (ipykernel)",
   "language": "python",
   "name": "python3"
  },
  "language_info": {
   "codemirror_mode": {
    "name": "ipython",
    "version": 3
   },
   "file_extension": ".py",
   "mimetype": "text/x-python",
   "name": "python",
   "nbconvert_exporter": "python",
   "pygments_lexer": "ipython3",
   "version": "3.11.5"
  }
 },
 "nbformat": 4,
 "nbformat_minor": 5
}
