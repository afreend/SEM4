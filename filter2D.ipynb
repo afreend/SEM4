{
 "cells": [
  {
   "cell_type": "code",
   "execution_count": 10,
   "id": "57b7cab6",
   "metadata": {},
   "outputs": [],
   "source": [
    "import cv2 as cv\n",
    "import matplotlib.pyplot as plt\n",
    "import numpy as np"
   ]
  },
  {
   "cell_type": "code",
   "execution_count": null,
   "id": "78b09cd9",
   "metadata": {},
   "outputs": [],
   "source": [
    "img = cv.imread('C:/Users/ADMIN/Pictures/sharky.jpg')\n",
    "#print(img)\n",
    "kernel = np.ones((5,5),np.float32)/25\n",
    "filter = cv.filter2D(img,-2,kernel)\n",
    "cv.imshow('image',img)\n",
    "cv.imshow('filter2D',filter)\n",
    "cv.waitKey(0)\n",
    "cv.destroyAllWindows()"
   ]
  },
  {
   "cell_type": "code",
   "execution_count": null,
   "id": "fbf8cfd8",
   "metadata": {},
   "outputs": [],
   "source": [
    "img = cv.imread('C:/Users/ADMIN/Pictures/cocomelon.jpg')\n",
    "blur = cv.blur(img,(30,30))\n",
    "cv.imshow('image',img)\n",
    "cv.imshow('blur',blur)\n",
    "cv.waitKey(0)\n",
    "cv.destroyAllWindowss()"
   ]
  },
  {
   "cell_type": "markdown",
   "id": "3a638db8",
   "metadata": {},
   "source": [
    "# gausian blur"
   ]
  },
  {
   "cell_type": "code",
   "execution_count": null,
   "id": "0e6cfa8e",
   "metadata": {},
   "outputs": [],
   "source": [
    "\n",
    "img = cv.imread('C:/Users/ADMIN/Pictures/coco.jpg')\n",
    "Gblur = cv.GaussianBlur(img,(7,7),0)\n",
    "cv.imshow('image',img)\n",
    "cv.imshow('GaussianBlur',Gblur)\n",
    "cv.waitKey(0)\n",
    "cv.destroyAllWindowss()"
   ]
  },
  {
   "cell_type": "code",
   "execution_count": null,
   "id": "f66e0300",
   "metadata": {},
   "outputs": [],
   "source": [
    "img = cv.imread('C:/Users/ADMIN/Downloads/pic.jpg')\n",
    "print(img.shape)\n",
    "bFilter = cv.bilateralFilter(img,9,50,50)\n",
    "cv.imshow('image',img)\n",
    "cv.imshow('bilateralFilter',bFilter)\n",
    "cv.waitKey(0)\n",
    "cv.destroyAllWindows()"
   ]
  },
  {
   "cell_type": "code",
   "execution_count": null,
   "id": "af1b8d59",
   "metadata": {},
   "outputs": [],
   "source": [
    "img = cv.imread('C:/Users/ADMIN/Downloads/pepper.jpg')\n",
    "medianFilter =cv.medianBlur(img,9)\n",
    "cv.imshow('medianBlur',medianFilter)\n",
    "cv.imshow('image',img)\n",
    "cv.waitKey(0)\n",
    "cv.destroyAllWindows()"
   ]
  },
  {
   "cell_type": "code",
   "execution_count": null,
   "id": "b5aaaf99",
   "metadata": {},
   "outputs": [],
   "source": [
    "titles = ['image','%d','blur','gaussian','bilateral','median']\n",
    "images=[img,filter,blur,gblur,bfilter,medianFilter]\n",
    "cv.waitkey(0)\n",
    "cv.destroyAllWindows()\n",
    "\n"
   ]
  },
  {
   "cell_type": "markdown",
   "id": "34e27bf4",
   "metadata": {},
   "source": [
    "# laplasian filter"
   ]
  },
  {
   "cell_type": "code",
   "execution_count": null,
   "id": "bf7e6c0f",
   "metadata": {},
   "outputs": [],
   "source": [
    "img = cv.imread('C:/Users/ADMIN/Pictures/melon.jpg',0)\n",
    "lap = cv.Laplacian(img,cv.CV_64F,ksize=3)\n",
    "lap = np.uint8(np.absolute(lap))\n",
    "cv.imshow('image',img)\n",
    "cv.imshow('laplacian',lap)\n",
    "cv.waitKey(0)\n",
    "cv.destroyAllWindows()\n",
    "                \n"
   ]
  },
  {
   "cell_type": "markdown",
   "id": "14b89486",
   "metadata": {},
   "source": [
    "# sobel filter"
   ]
  },
  {
   "cell_type": "code",
   "execution_count": 7,
   "id": "b690cae5",
   "metadata": {},
   "outputs": [],
   "source": [
    "img = cv.imread('C:/Users/ADMIN/Pictures/coco.jpg',0)\n",
    "sobelx = cv.Sobel(img,cv.CV_64F,1,0,ksize=3)\n",
    "sobelx=np.uint8(np.absolute(sobelx))\n",
    "cv.imshow('image',img)\n",
    "cv.imshow('sobelx',sobelx)\n",
    "cv.waitKey(0)\n",
    "cv.destroyAllWindows()\n",
    "                \n"
   ]
  },
  {
   "cell_type": "code",
   "execution_count": null,
   "id": "9b93e988",
   "metadata": {},
   "outputs": [],
   "source": [
    "img = cv.imread('C:/Users/ADMIN/Pictures/coco.jpg',0)\n",
    "sobely = cv.Sobel(img,cv.CV_64F,0,1,ksize=3)\n",
    "sobely=np.uint8(np.absolute(sobely))\n",
    "cv.imshow('image',img)\n",
    "cv.imshow('sobely',sobely)\n",
    "cv.waitKey(0)\n",
    "cv.destroyAllWindows()\n",
    "                \n"
   ]
  },
  {
   "cell_type": "code",
   "execution_count": null,
   "id": "1a3510a2",
   "metadata": {},
   "outputs": [],
   "source": []
  }
 ],
 "metadata": {
  "kernelspec": {
   "display_name": "Python 3 (ipykernel)",
   "language": "python",
   "name": "python3"
  },
  "language_info": {
   "codemirror_mode": {
    "name": "ipython",
    "version": 3
   },
   "file_extension": ".py",
   "mimetype": "text/x-python",
   "name": "python",
   "nbconvert_exporter": "python",
   "pygments_lexer": "ipython3",
   "version": "3.11.5"
  }
 },
 "nbformat": 4,
 "nbformat_minor": 5
}
