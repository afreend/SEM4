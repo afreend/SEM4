{
 "cells": [
  {
   "cell_type": "markdown",
   "id": "cbc80517",
   "metadata": {},
   "source": [
    "# k-means clustering"
   ]
  },
  {
   "cell_type": "code",
   "execution_count": 3,
   "id": "a3255210",
   "metadata": {},
   "outputs": [],
   "source": [
    "import cv2 \n",
    "import numpy as np"
   ]
  },
  {
   "cell_type": "markdown",
   "id": "50c97665",
   "metadata": {},
   "source": [
    "# reading images"
   ]
  },
  {
   "cell_type": "code",
   "execution_count": 4,
   "id": "53d12f6f",
   "metadata": {},
   "outputs": [
    {
     "data": {
      "text/plain": [
       "array([[[254, 229, 101],\n",
       "        [253, 231, 101],\n",
       "        [250, 233, 100],\n",
       "        ...,\n",
       "        [239, 223,  87],\n",
       "        [241, 225,  89],\n",
       "        [244, 228,  92]],\n",
       "\n",
       "       [[237, 221,  98],\n",
       "        [237, 223,  97],\n",
       "        [236, 227, 100],\n",
       "        ...,\n",
       "        [235, 218,  78],\n",
       "        [237, 220,  80],\n",
       "        [240, 223,  83]],\n",
       "\n",
       "       [[238, 230, 106],\n",
       "        [239, 232, 109],\n",
       "        [240, 237, 115],\n",
       "        ...,\n",
       "        [234, 217,  72],\n",
       "        [236, 219,  74],\n",
       "        [239, 222,  77]],\n",
       "\n",
       "       ...,\n",
       "\n",
       "       [[ 42, 174,  81],\n",
       "        [ 41, 174,  81],\n",
       "        [ 36, 174,  80],\n",
       "        ...,\n",
       "        [ 67, 147,  70],\n",
       "        [ 67, 147,  70],\n",
       "        [ 67, 147,  70]],\n",
       "\n",
       "       [[ 35, 167,  74],\n",
       "        [ 34, 167,  74],\n",
       "        [ 33, 169,  75],\n",
       "        ...,\n",
       "        [ 69, 151,  74],\n",
       "        [ 69, 151,  74],\n",
       "        [ 69, 151,  74]],\n",
       "\n",
       "       [[ 32, 173,  76],\n",
       "        [ 32, 173,  76],\n",
       "        [ 32, 173,  76],\n",
       "        ...,\n",
       "        [ 71, 151,  74],\n",
       "        [ 71, 151,  74],\n",
       "        [ 71, 151,  74]]], dtype=uint8)"
      ]
     },
     "execution_count": 4,
     "metadata": {},
     "output_type": "execute_result"
    }
   ],
   "source": [
    "img = cv2.imread(\"C:/Users/ADMIN/Pictures/hi.jpg\")\n",
    "img"
   ]
  },
  {
   "cell_type": "markdown",
   "id": "10b2a4be",
   "metadata": {},
   "source": [
    "# RGB convertion"
   ]
  },
  {
   "cell_type": "code",
   "execution_count": 6,
   "id": "4af51588",
   "metadata": {},
   "outputs": [],
   "source": [
    "imgrgb  = cv2.cvtColor(img,cv2.COLOR_BGR2RGB)"
   ]
  },
  {
   "cell_type": "markdown",
   "id": "cc4c3e2d",
   "metadata": {},
   "source": [
    "# Reshape"
   ]
  },
  {
   "cell_type": "code",
   "execution_count": 7,
   "id": "e05c8355",
   "metadata": {},
   "outputs": [
    {
     "data": {
      "text/plain": [
       "array([[101, 229, 254],\n",
       "       [101, 231, 253],\n",
       "       [100, 233, 250],\n",
       "       ...,\n",
       "       [ 74, 151,  71],\n",
       "       [ 74, 151,  71],\n",
       "       [ 74, 151,  71]], dtype=uint8)"
      ]
     },
     "execution_count": 7,
     "metadata": {},
     "output_type": "execute_result"
    }
   ],
   "source": [
    "vec = imgrgb.reshape((-1,3))\n",
    "vec"
   ]
  },
  {
   "cell_type": "markdown",
   "id": "cefa3a18",
   "metadata": {},
   "source": [
    "# Float conversion"
   ]
  },
  {
   "cell_type": "code",
   "execution_count": 8,
   "id": "ef470639",
   "metadata": {},
   "outputs": [
    {
     "data": {
      "text/plain": [
       "array([[101., 229., 254.],\n",
       "       [101., 231., 253.],\n",
       "       [100., 233., 250.],\n",
       "       ...,\n",
       "       [ 74., 151.,  71.],\n",
       "       [ 74., 151.,  71.],\n",
       "       [ 74., 151.,  71.]], dtype=float32)"
      ]
     },
     "execution_count": 8,
     "metadata": {},
     "output_type": "execute_result"
    }
   ],
   "source": [
    "vec = np.float32(vec)\n",
    "vec"
   ]
  },
  {
   "cell_type": "markdown",
   "id": "e7038539",
   "metadata": {},
   "source": [
    "# iteration termination criteria"
   ]
  },
  {
   "cell_type": "code",
   "execution_count": 9,
   "id": "d484e104",
   "metadata": {},
   "outputs": [],
   "source": [
    "criteria = (cv2.TERM_CRITERIA_EPS + cv2.TERM_CRITERIA_MAX_ITER,100,1)"
   ]
  },
  {
   "cell_type": "markdown",
   "id": "394a48a0",
   "metadata": {},
   "source": [
    "# cluster conditions"
   ]
  },
  {
   "cell_type": "code",
   "execution_count": 10,
   "id": "89a7e776",
   "metadata": {},
   "outputs": [],
   "source": [
    "K = 3\n",
    "attempts=100"
   ]
  },
  {
   "cell_type": "markdown",
   "id": "b6e30bae",
   "metadata": {},
   "source": [
    "# K-means clustering"
   ]
  },
  {
   "cell_type": "code",
   "execution_count": 14,
   "id": "48f6b3a7",
   "metadata": {},
   "outputs": [
    {
     "data": {
      "text/plain": [
       "array([[192.05212, 105.90306,  34.33505],\n",
       "       [170.52852, 228.45636, 220.55782],\n",
       "       [ 61.35942, 163.99203, 158.34862]], dtype=float32)"
      ]
     },
     "execution_count": 14,
     "metadata": {},
     "output_type": "execute_result"
    }
   ],
   "source": [
    "compactness,label,center = cv2.kmeans(vec,K,None,criteria,attempts,cv2.KMEANS_PP_CENTERS)\n",
    "center"
   ]
  },
  {
   "cell_type": "markdown",
   "id": "7ae1dc4e",
   "metadata": {},
   "source": [
    "# Unit convertion"
   ]
  },
  {
   "cell_type": "code",
   "execution_count": 16,
   "id": "dd0e6a1d",
   "metadata": {},
   "outputs": [
    {
     "data": {
      "text/plain": [
       "array([[192, 105,  34],\n",
       "       [170, 228, 220],\n",
       "       [ 61, 163, 158]], dtype=uint8)"
      ]
     },
     "execution_count": 16,
     "metadata": {},
     "output_type": "execute_result"
    }
   ],
   "source": [
    "center = np.uint8(center)\n",
    "center"
   ]
  },
  {
   "cell_type": "markdown",
   "id": "03871b8d",
   "metadata": {},
   "source": [
    "# Flattening and reshaping"
   ]
  },
  {
   "cell_type": "code",
   "execution_count": 17,
   "id": "e3f23c68",
   "metadata": {},
   "outputs": [
    {
     "data": {
      "text/plain": [
       "array([[[170, 228, 220],\n",
       "        [170, 228, 220],\n",
       "        [170, 228, 220],\n",
       "        ...,\n",
       "        [170, 228, 220],\n",
       "        [170, 228, 220],\n",
       "        [170, 228, 220]],\n",
       "\n",
       "       [[170, 228, 220],\n",
       "        [170, 228, 220],\n",
       "        [170, 228, 220],\n",
       "        ...,\n",
       "        [170, 228, 220],\n",
       "        [170, 228, 220],\n",
       "        [170, 228, 220]],\n",
       "\n",
       "       [[170, 228, 220],\n",
       "        [170, 228, 220],\n",
       "        [170, 228, 220],\n",
       "        ...,\n",
       "        [ 61, 163, 158],\n",
       "        [ 61, 163, 158],\n",
       "        [170, 228, 220]],\n",
       "\n",
       "       ...,\n",
       "\n",
       "       [[ 61, 163, 158],\n",
       "        [ 61, 163, 158],\n",
       "        [ 61, 163, 158],\n",
       "        ...,\n",
       "        [ 61, 163, 158],\n",
       "        [ 61, 163, 158],\n",
       "        [ 61, 163, 158]],\n",
       "\n",
       "       [[ 61, 163, 158],\n",
       "        [ 61, 163, 158],\n",
       "        [ 61, 163, 158],\n",
       "        ...,\n",
       "        [ 61, 163, 158],\n",
       "        [ 61, 163, 158],\n",
       "        [ 61, 163, 158]],\n",
       "\n",
       "       [[ 61, 163, 158],\n",
       "        [ 61, 163, 158],\n",
       "        [ 61, 163, 158],\n",
       "        ...,\n",
       "        [ 61, 163, 158],\n",
       "        [ 61, 163, 158],\n",
       "        [ 61, 163, 158]]], dtype=uint8)"
      ]
     },
     "execution_count": 17,
     "metadata": {},
     "output_type": "execute_result"
    }
   ],
   "source": [
    "res = center[label.flatten()]\n",
    "res_img = res.reshape((imgrgb.shape))\n",
    "res_img"
   ]
  },
  {
   "cell_type": "markdown",
   "id": "f0c13fd5",
   "metadata": {},
   "source": [
    "# image"
   ]
  },
  {
   "cell_type": "code",
   "execution_count": 18,
   "id": "a4457831",
   "metadata": {},
   "outputs": [],
   "source": [
    "cv2.imshow('original',img)\n",
    "cv2.imshow('segmented',res_img)\n",
    "\n",
    "cv2.waitKey(0)\n",
    "cv2.destroyAllWindows()"
   ]
  },
  {
   "cell_type": "code",
   "execution_count": null,
   "id": "662cf658",
   "metadata": {},
   "outputs": [],
   "source": []
  }
 ],
 "metadata": {
  "kernelspec": {
   "display_name": "Python 3 (ipykernel)",
   "language": "python",
   "name": "python3"
  },
  "language_info": {
   "codemirror_mode": {
    "name": "ipython",
    "version": 3
   },
   "file_extension": ".py",
   "mimetype": "text/x-python",
   "name": "python",
   "nbconvert_exporter": "python",
   "pygments_lexer": "ipython3",
   "version": "3.11.5"
  }
 },
 "nbformat": 4,
 "nbformat_minor": 5
}
