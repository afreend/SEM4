{
 "cells": [
  {
   "cell_type": "code",
   "execution_count": 8,
   "id": "37ba84ce",
   "metadata": {},
   "outputs": [],
   "source": [
    "import cv2 \n",
    "import numpy as np\n"
   ]
  },
  {
   "cell_type": "code",
   "execution_count": 9,
   "id": "ce058f9c",
   "metadata": {},
   "outputs": [],
   "source": [
    "image = cv2.imread(\"C:/Users/ADMIN/Pictures/masha.jpg\")"
   ]
  },
  {
   "cell_type": "code",
   "execution_count": 11,
   "id": "98658f1a",
   "metadata": {},
   "outputs": [],
   "source": [
    "segmented_image = cv2.pyrMeanShiftFiltering(image,40,40)\n"
   ]
  },
  {
   "cell_type": "code",
   "execution_count": null,
   "id": "c2d4b20c",
   "metadata": {},
   "outputs": [],
   "source": [
    "cv2.imshow('original_image',image)\n",
    "cv2.imshow('segmented Image',segmented_image)\n",
    "\n",
    "cv2.waitKey(0)\n",
    "cv2.destroyAllWindows()"
   ]
  },
  {
   "cell_type": "code",
   "execution_count": null,
   "id": "f5601e7e",
   "metadata": {},
   "outputs": [],
   "source": []
  },
  {
   "cell_type": "code",
   "execution_count": null,
   "id": "d1de9184",
   "metadata": {},
   "outputs": [],
   "source": []
  }
 ],
 "metadata": {
  "kernelspec": {
   "display_name": "Python 3 (ipykernel)",
   "language": "python",
   "name": "python3"
  },
  "language_info": {
   "codemirror_mode": {
    "name": "ipython",
    "version": 3
   },
   "file_extension": ".py",
   "mimetype": "text/x-python",
   "name": "python",
   "nbconvert_exporter": "python",
   "pygments_lexer": "ipython3",
   "version": "3.11.5"
  }
 },
 "nbformat": 4,
 "nbformat_minor": 5
}
