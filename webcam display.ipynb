{
 "cells": [
  {
   "cell_type": "code",
   "execution_count": 1,
   "id": "85a5c9f6",
   "metadata": {},
   "outputs": [],
   "source": [
    "import cv2\n",
    "import numpy as np"
   ]
  },
  {
   "cell_type": "markdown",
   "id": "c5e7a394",
   "metadata": {},
   "source": [
    "# webcam capture"
   ]
  },
  {
   "cell_type": "code",
   "execution_count": 2,
   "id": "82978a8b",
   "metadata": {},
   "outputs": [],
   "source": [
    "view = cv2.VideoCapture(\"C:/Users/ADMIN/Downloads/cat video.mp4\")"
   ]
  },
  {
   "cell_type": "markdown",
   "id": "5d336542",
   "metadata": {},
   "source": [
    "# webcam display"
   ]
  },
  {
   "cell_type": "code",
   "execution_count": null,
   "id": "385dba7f",
   "metadata": {},
   "outputs": [],
   "source": [
    "\n",
    "while(view.isOpened()):\n",
    "    ret,frame=view.read()\n",
    "    gray=cv2.cvtColor(frame,cv2.COLOR_BGR2GRAY)\n",
    "    cv2.imshow('frame',frame)\n",
    "    cv2.imshow('gray',gray)\n",
    "    if cv2.waitKey(25)&0xFF==ord('q'):\n",
    "        break\n",
    "view.release()\n",
    "cv2.destroyAllWindows()\n",
    "       \n",
    "    "
   ]
  },
  {
   "cell_type": "markdown",
   "id": "773892c9",
   "metadata": {},
   "source": [
    "# video saving"
   ]
  },
  {
   "cell_type": "markdown",
   "id": "f115aa50",
   "metadata": {},
   "source": [
    "# webcam capture"
   ]
  },
  {
   "cell_type": "code",
   "execution_count": 3,
   "id": "bcf6ab3b",
   "metadata": {},
   "outputs": [],
   "source": [
    "fourcc = cv2.VideoWriter_fourcc(*'mp4v')"
   ]
  },
  {
   "cell_type": "markdown",
   "id": "cd9aaf9d",
   "metadata": {},
   "source": [
    "# video writer"
   ]
  },
  {
   "cell_type": "code",
   "execution_count": 4,
   "id": "4e3690db",
   "metadata": {},
   "outputs": [],
   "source": [
    "wrt=cv2.VideoWriter('videoname.mp4',fourcc,50.0,(640,480))"
   ]
  },
  {
   "cell_type": "code",
   "execution_count": 6,
   "id": "e6d969c5",
   "metadata": {},
   "outputs": [
    {
     "ename": "error",
     "evalue": "OpenCV(4.9.0) D:\\a\\opencv-python\\opencv-python\\opencv\\modules\\highgui\\src\\window.cpp:971: error: (-215:Assertion failed) size.width>0 && size.height>0 in function 'cv::imshow'\n",
     "output_type": "error",
     "traceback": [
      "\u001b[1;31m---------------------------------------------------------------------------\u001b[0m",
      "\u001b[1;31merror\u001b[0m                                     Traceback (most recent call last)",
      "Cell \u001b[1;32mIn[6], line 4\u001b[0m\n\u001b[0;32m      2\u001b[0m ret,frame\u001b[38;5;241m=\u001b[39mview\u001b[38;5;241m.\u001b[39mread()\n\u001b[0;32m      3\u001b[0m wrt\u001b[38;5;241m.\u001b[39mwrite(frame)\n\u001b[1;32m----> 4\u001b[0m cv2\u001b[38;5;241m.\u001b[39mimshow(\u001b[38;5;124m'\u001b[39m\u001b[38;5;124mframe\u001b[39m\u001b[38;5;124m'\u001b[39m,frame)\n\u001b[0;32m      5\u001b[0m \u001b[38;5;28;01mif\u001b[39;00m cv2\u001b[38;5;241m.\u001b[39mwaitKey(\u001b[38;5;241m1\u001b[39m)\u001b[38;5;241m&\u001b[39m\u001b[38;5;241m0xFF\u001b[39m\u001b[38;5;241m==\u001b[39m\u001b[38;5;28mord\u001b[39m(\u001b[38;5;124m'\u001b[39m\u001b[38;5;124mq\u001b[39m\u001b[38;5;124m'\u001b[39m):\n\u001b[0;32m      6\u001b[0m     \u001b[38;5;28;01mbreak\u001b[39;00m\n",
      "\u001b[1;31merror\u001b[0m: OpenCV(4.9.0) D:\\a\\opencv-python\\opencv-python\\opencv\\modules\\highgui\\src\\window.cpp:971: error: (-215:Assertion failed) size.width>0 && size.height>0 in function 'cv::imshow'\n"
     ]
    }
   ],
   "source": [
    "while(True):\n",
    "    ret,frame=view.read()\n",
    "    wrt.write(frame)\n",
    "    cv2.imshow('frame',frame)\n",
    "    if cv2.waitKey(1)&0xFF==ord('q'):\n",
    "        break\n",
    "view.release()\n",
    "cv2.destroyAllWindows()"
   ]
  },
  {
   "cell_type": "code",
   "execution_count": null,
   "id": "4bf3afc2",
   "metadata": {},
   "outputs": [],
   "source": []
  },
  {
   "cell_type": "code",
   "execution_count": null,
   "id": "30fa9cef",
   "metadata": {},
   "outputs": [],
   "source": []
  }
 ],
 "metadata": {
  "kernelspec": {
   "display_name": "Python 3 (ipykernel)",
   "language": "python",
   "name": "python3"
  },
  "language_info": {
   "codemirror_mode": {
    "name": "ipython",
    "version": 3
   },
   "file_extension": ".py",
   "mimetype": "text/x-python",
   "name": "python",
   "nbconvert_exporter": "python",
   "pygments_lexer": "ipython3",
   "version": "3.11.5"
  }
 },
 "nbformat": 4,
 "nbformat_minor": 5
}
